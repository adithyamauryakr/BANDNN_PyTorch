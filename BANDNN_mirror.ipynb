{
 "cells": [
  {
   "cell_type": "code",
   "execution_count": 54,
   "id": "437cff80",
   "metadata": {},
   "outputs": [],
   "source": [
    "import pandas as pd\n",
    "from sklearn.model_selection import train_test_split\n",
    "import torch\n",
    "from torch.utils.data import Dataset, DataLoader\n",
    "import torch.nn as nn\n",
    "import torch.optim as optim\n",
    "import matplotlib.pyplot as plt\n",
    "import lib.pyanitools as pya\n",
    "import os\n",
    "\n",
    "device = 'cuda' if torch.cuda.is_available() else 'cpu'"
   ]
  },
  {
   "cell_type": "code",
   "execution_count": 3,
   "id": "955caed5",
   "metadata": {},
   "outputs": [
    {
     "name": "stdout",
     "output_type": "stream",
     "text": [
      "100000\n"
     ]
    }
   ],
   "source": [
    "import h5py\n",
    "\n",
    "features_list = []\n",
    "with h5py.File('data/molecules.h5', 'r') as h5f:\n",
    "    for mol_key in h5f.keys():\n",
    "        group = h5f[mol_key]\n",
    "        mol_data = {key: group[key][()] for key in group}\n",
    "        # Decode bytes to strings if needed\n",
    "        for k, v in mol_data.items():\n",
    "            if isinstance(v, bytes):\n",
    "                mol_data[k] = v.decode('utf-8')\n",
    "        features_list.append(mol_data)\n",
    "\n",
    "print(len(features_list))"
   ]
  },
  {
   "cell_type": "code",
   "execution_count": 2,
   "id": "ba9ca7a6",
   "metadata": {},
   "outputs": [],
   "source": [
    "y = pd.read_csv('data/energy_list.csv').values"
   ]
  },
  {
   "cell_type": "code",
   "execution_count": 10,
   "id": "92cab595",
   "metadata": {},
   "outputs": [],
   "source": [
    "X_train, X_test, y_train, y_test = train_test_split(\n",
    "    features_list, y, test_size=0.2, random_state=42\n",
    ")"
   ]
  },
  {
   "cell_type": "code",
   "execution_count": null,
   "id": "25a36789",
   "metadata": {},
   "outputs": [],
   "source": [
    "from torch.nn.utils.rnn import pad_sequence\n",
    "\n"
   ]
  },
  {
   "cell_type": "code",
   "execution_count": 50,
   "id": "ccc3fa8c",
   "metadata": {},
   "outputs": [],
   "source": [
    "# create CustomDataset Class\n",
    "\n",
    "class CustomDataset(Dataset):\n",
    "\n",
    "  def __init__(self, bond_features, angle_features, nonbond_features, dihedral_features, targets):\n",
    "    self.bond_features = bond_features\n",
    "    self.angle_features = angle_features\n",
    "    self.nonbond_features = nonbond_features\n",
    "    self.dihedral_features = dihedral_features\n",
    "    self.targets = torch.tensor(targets, dtype=torch.float32)\n",
    "\n",
    "  def __len__(self):\n",
    "    return len(self.bond_features)\n",
    "\n",
    "  def __getitem__(self, index):\n",
    "    return self.bond_features[index], self.angle_features[index], self.nonbond_features[index], self.dihedral[index], self.targets[index]\n"
   ]
  },
  {
   "cell_type": "code",
   "execution_count": 11,
   "id": "b62c574d",
   "metadata": {},
   "outputs": [],
   "source": [
    "# create train_dataset object\n",
    "X_train_bond_feat = [d['bonds'] for d in X_train]\n",
    "X_train_angle_feat = [d['angles'] for d in X_train]\n",
    "X_train_nonbond_feat = [d['nonbonds'] for d in X_train]\n",
    "X_train_dihedral_feat = [d['dihedrals'] for d in X_train]\n",
    "\n",
    "X_test_bond_feat = [d['bonds'] for d in X_test]\n",
    "X_test_angle_feat = [d['angles'] for d in X_test]\n",
    "X_test_nonbond_feat = [d['nonbonds'] for d in X_test]\n",
    "X_test_dihedral_Feat = [d['dihedrals'] for d in X_test]"
   ]
  },
  {
   "cell_type": "code",
   "execution_count": 35,
   "id": "61e89321",
   "metadata": {},
   "outputs": [
    {
     "data": {
      "text/plain": [
       "((42, 27), (21, 17))"
      ]
     },
     "execution_count": 35,
     "metadata": {},
     "output_type": "execute_result"
    }
   ],
   "source": [
    "X_train_angle_feat[0].shape, X_train_bond_feat[0].shape"
   ]
  },
  {
   "cell_type": "code",
   "execution_count": 51,
   "id": "7967f113",
   "metadata": {},
   "outputs": [],
   "source": [
    "train_dataset = CustomDataset(X_train_bond_feat, X_train_angle_feat,\n",
    "                              X_train_nonbond_feat, X_train_dihedral_feat, y_train)\n",
    "test_dataset = CustomDataset(X_test_bond_feat, X_test_angle_feat,\n",
    "                             X_test_nonbond_feat, X_test_dihedral_Feat, y_test)"
   ]
  },
  {
   "cell_type": "code",
   "execution_count": 58,
   "id": "68c22e3c",
   "metadata": {},
   "outputs": [],
   "source": [
    "train_loader = DataLoader(train_dataset, batch_size=32, shuffle=True, pin_memory=True)\n",
    "test_loader = DataLoader(test_dataset, batch_size=32, shuffle=False, pin_memory=True)"
   ]
  },
  {
   "cell_type": "code",
   "execution_count": 53,
   "id": "34325958",
   "metadata": {},
   "outputs": [],
   "source": [
    "BONDS_DIM, ANGLES_DIM, NONBONDS_DIM, DIHEDRALS_DIM = 17, 27, 17, 38"
   ]
  },
  {
   "cell_type": "code",
   "execution_count": 52,
   "id": "05bfc17b",
   "metadata": {},
   "outputs": [],
   "source": [
    "def make_tensor(seq):\n",
    "    return torch.tensor(seq, dtype=torch.float32)"
   ]
  },
  {
   "cell_type": "code",
   "execution_count": null,
   "id": "c55ce462",
   "metadata": {},
   "outputs": [],
   "source": [
    "class BANDNN(nn.Module):\n",
    "\n",
    "  def __init__(self, bonds_input_dim, angles_input_dim, nonbonds_input_dim, dihedral_input_dim):\n",
    "    super().__init__()\n",
    "    self.bonds_model = nn.Sequential(\n",
    "        nn.Linear(bonds_input_dim, 128),\n",
    "        nn.ReLU(),\n",
    "        nn.Linear(128, 256),\n",
    "        nn.ReLU(),\n",
    "        nn.Linear(256, 128),\n",
    "        nn.ReLU(),\n",
    "        nn.Linear(128, 1)\n",
    "    )\n",
    "\n",
    "    self.angles_model = nn.Sequential(\n",
    "        nn.Linear(angles_input_dim, 128),\n",
    "        nn.ReLU(),\n",
    "        nn.Linear(128, 350),\n",
    "        nn.ReLU(),\n",
    "        nn.Linear(350, 128),\n",
    "        nn.ReLU(),\n",
    "        nn.Linear(128, 1)\n",
    "    )\n",
    "\n",
    "    self.nonbonds_model = nn.Sequential(\n",
    "        nn.Linear(nonbonds_input_dim, 128),\n",
    "        nn.ReLU(),\n",
    "        nn.Linear(128, 256),\n",
    "        nn.ReLU(),\n",
    "        nn.Linear(256, 128),\n",
    "        nn.ReLU(),\n",
    "        nn.Linear(128, 1)\n",
    "    )\n",
    "\n",
    "    self.dihedrals_model = nn.Sequential(\n",
    "        nn.Linear(dihedral_input_dim, 128),\n",
    "        nn.ReLU(),\n",
    "        nn.Linear(128, 512),\n",
    "        nn.ReLU(),\n",
    "        nn.Linear(512, 128),\n",
    "        nn.ReLU(),\n",
    "        nn.Linear(128, 1)\n",
    "    )\n",
    "\n",
    "  def forward(self, bonds_input,angles_input, non_bonds_input, dihedrals_input):\n",
    "\n",
    "    bonds_energy = make_tensor([self.bonds_model(make_tensor(bond_input)) for bond_input in bonds_input])\n",
    "    angles_energy = make_tensor([self.angles_model(make_tensor(angle_input)) for angle_input in angles_input])\n",
    "    nonbonds_energy = make_tensor([self.nonbonds_model(make_tensor(non_bond_input))for non_bond_input in non_bonds_input])\n",
    "    dihedrals_energy =  make_tensor([self.dihedrals_model(make_tensor(dihedral_input)) for dihedral_input in dihedrals_input])\n",
    "    total_energy =  torch.sum(bonds_energy) + torch.sum(angles_energy) + torch.sum(nonbonds_energy) + torch.sum(dihedrals_energy)\n",
    "    \n",
    "    return total_energy"
   ]
  },
  {
   "cell_type": "code",
   "execution_count": 55,
   "id": "aa1b7794",
   "metadata": {},
   "outputs": [
    {
     "data": {
      "text/plain": [
       "=================================================================\n",
       "Layer (type:depth-idx)                   Param #\n",
       "=================================================================\n",
       "BANDNN                                   --\n",
       "├─Sequential: 1-1                        --\n",
       "│    └─Linear: 2-1                       2,304\n",
       "│    └─ReLU: 2-2                         --\n",
       "│    └─Linear: 2-3                       33,024\n",
       "│    └─ReLU: 2-4                         --\n",
       "│    └─Linear: 2-5                       32,896\n",
       "│    └─ReLU: 2-6                         --\n",
       "│    └─Linear: 2-7                       129\n",
       "├─Sequential: 1-2                        --\n",
       "│    └─Linear: 2-8                       3,584\n",
       "│    └─ReLU: 2-9                         --\n",
       "│    └─Linear: 2-10                      45,150\n",
       "│    └─ReLU: 2-11                        --\n",
       "│    └─Linear: 2-12                      44,928\n",
       "│    └─ReLU: 2-13                        --\n",
       "│    └─Linear: 2-14                      129\n",
       "├─Sequential: 1-3                        --\n",
       "│    └─Linear: 2-15                      2,304\n",
       "│    └─ReLU: 2-16                        --\n",
       "│    └─Linear: 2-17                      33,024\n",
       "│    └─ReLU: 2-18                        --\n",
       "│    └─Linear: 2-19                      32,896\n",
       "│    └─ReLU: 2-20                        --\n",
       "│    └─Linear: 2-21                      129\n",
       "├─Sequential: 1-4                        --\n",
       "│    └─Linear: 2-22                      4,992\n",
       "│    └─ReLU: 2-23                        --\n",
       "│    └─Linear: 2-24                      66,048\n",
       "│    └─ReLU: 2-25                        --\n",
       "│    └─Linear: 2-26                      65,664\n",
       "│    └─ReLU: 2-27                        --\n",
       "│    └─Linear: 2-28                      129\n",
       "=================================================================\n",
       "Total params: 367,330\n",
       "Trainable params: 367,330\n",
       "Non-trainable params: 0\n",
       "================================================================="
      ]
     },
     "execution_count": 55,
     "metadata": {},
     "output_type": "execute_result"
    }
   ],
   "source": [
    "from torchinfo import summary\n",
    "model = BANDNN(17, 27, 17, 38)\n",
    "model = model.to(device)\n",
    "# model.summary()\n",
    "summary(model)"
   ]
  },
  {
   "cell_type": "code",
   "execution_count": 57,
   "id": "10094ccd",
   "metadata": {},
   "outputs": [],
   "source": [
    "epochs = 20\n",
    "learning_rate = 0.1\n",
    "\n",
    "# loss func\n",
    "criterion = nn.MSELoss()\n",
    "\n",
    "# optimizer\n",
    "optimizer = optim.SGD(model.parameters(), lr=learning_rate)"
   ]
  },
  {
   "cell_type": "code",
   "execution_count": 48,
   "id": "61dd57a5",
   "metadata": {},
   "outputs": [],
   "source": [
    "b = torch.tensor(X_train_bond_feat[0], dtype=torch.float32)\n",
    "a = torch.tensor(X_train_angle_feat[0], dtype=torch.float32)\n",
    "n = torch.tensor(X_train_nonbond_feat[0], dtype=torch.float32)\n",
    "d = torch.tensor(X_train_dihedral_feat[0], dtype=torch.float32)\n",
    "\n",
    "output = model(b, a, n, d)"
   ]
  },
  {
   "cell_type": "code",
   "execution_count": 49,
   "id": "651e0d88",
   "metadata": {},
   "outputs": [
    {
     "data": {
      "text/plain": [
       "tensor(3.7860)"
      ]
     },
     "execution_count": 49,
     "metadata": {},
     "output_type": "execute_result"
    }
   ],
   "source": [
    "output"
   ]
  },
  {
   "cell_type": "code",
   "execution_count": null,
   "id": "3d31db22",
   "metadata": {},
   "outputs": [],
   "source": [
    "# training loop\n",
    "for epochs in range(epochs):\n",
    "\n",
    "    total_epoch_loss = 0\n",
    "    for bond_feat, angle_feat, nonbond_feat, dihedral_feat, energy_feat in train_loader:\n",
    "\n",
    "        bond_feat = bond_feat.to(device)\n",
    "        angle_feat = angle_feat.to(device)\n",
    "        nonbond_feat = nonbond_feat.to(device)\n",
    "        dihedral_feat = dihedral_feat.to(device)\n",
    "        energy_feat = energy_feat.to(device)\n",
    "\n",
    "        outputs = model(bond_feat, angle_feat, nonbond_feat, dihedral_feat)\n",
    "\n",
    "        loss = criterion(outputs, energy_feat)\n",
    "\n",
    "        optimizer.zero_grad()\n",
    "\n",
    "        # back pass\n",
    "        loss.backward()\n",
    "\n",
    "        # update params\n",
    "        optimizer.step()\n",
    "\n",
    "        total_epoch_loss = total_epoch_loss + loss.item()\n",
    "    \n",
    "    avg_loss = total_epoch_loss/len(train_loader)\n",
    "    print(f'Epoch {epoch+1}, Loss: {avg_loss: .4f}')"
   ]
  },
  {
   "cell_type": "code",
   "execution_count": 59,
   "id": "f3dc16d6",
   "metadata": {},
   "outputs": [
    {
     "data": {
      "text/plain": [
       "BANDNN(\n",
       "  (bonds_model): Sequential(\n",
       "    (0): Linear(in_features=17, out_features=128, bias=True)\n",
       "    (1): ReLU()\n",
       "    (2): Linear(in_features=128, out_features=256, bias=True)\n",
       "    (3): ReLU()\n",
       "    (4): Linear(in_features=256, out_features=128, bias=True)\n",
       "    (5): ReLU()\n",
       "    (6): Linear(in_features=128, out_features=1, bias=True)\n",
       "  )\n",
       "  (angles_model): Sequential(\n",
       "    (0): Linear(in_features=27, out_features=128, bias=True)\n",
       "    (1): ReLU()\n",
       "    (2): Linear(in_features=128, out_features=350, bias=True)\n",
       "    (3): ReLU()\n",
       "    (4): Linear(in_features=350, out_features=128, bias=True)\n",
       "    (5): ReLU()\n",
       "    (6): Linear(in_features=128, out_features=1, bias=True)\n",
       "  )\n",
       "  (nonbonds_model): Sequential(\n",
       "    (0): Linear(in_features=17, out_features=128, bias=True)\n",
       "    (1): ReLU()\n",
       "    (2): Linear(in_features=128, out_features=256, bias=True)\n",
       "    (3): ReLU()\n",
       "    (4): Linear(in_features=256, out_features=128, bias=True)\n",
       "    (5): ReLU()\n",
       "    (6): Linear(in_features=128, out_features=1, bias=True)\n",
       "  )\n",
       "  (dihedrals_model): Sequential(\n",
       "    (0): Linear(in_features=38, out_features=128, bias=True)\n",
       "    (1): ReLU()\n",
       "    (2): Linear(in_features=128, out_features=512, bias=True)\n",
       "    (3): ReLU()\n",
       "    (4): Linear(in_features=512, out_features=128, bias=True)\n",
       "    (5): ReLU()\n",
       "    (6): Linear(in_features=128, out_features=1, bias=True)\n",
       "  )\n",
       ")"
      ]
     },
     "execution_count": 59,
     "metadata": {},
     "output_type": "execute_result"
    }
   ],
   "source": [
    "model.eval()"
   ]
  },
  {
   "cell_type": "code",
   "execution_count": null,
   "id": "81151494",
   "metadata": {},
   "outputs": [],
   "source": []
  }
 ],
 "metadata": {
  "kernelspec": {
   "display_name": "matsci_env",
   "language": "python",
   "name": "python3"
  },
  "language_info": {
   "codemirror_mode": {
    "name": "ipython",
    "version": 3
   },
   "file_extension": ".py",
   "mimetype": "text/x-python",
   "name": "python",
   "nbconvert_exporter": "python",
   "pygments_lexer": "ipython3",
   "version": "3.12.3"
  }
 },
 "nbformat": 4,
 "nbformat_minor": 5
}
