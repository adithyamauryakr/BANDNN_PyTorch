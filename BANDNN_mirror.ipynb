{
  "cells": [
    {
      "cell_type": "markdown",
      "metadata": {
        "id": "view-in-github",
        "colab_type": "text"
      },
      "source": [
        "<a href=\"https://colab.research.google.com/github/adithyamauryakr/BANDNN_pytorch/blob/main/BANDNN_mirror.ipynb\" target=\"_parent\"><img src=\"https://colab.research.google.com/assets/colab-badge.svg\" alt=\"Open In Colab\"/></a>"
      ]
    },
    {
      "cell_type": "code",
      "source": [
        "!pip install rdkit\n",
        "!git clone https://github.com/adithyamauryakr/BANDNN_pytorch.git\n",
        "!git clone https://github.com/isayev/ANI1_dataset.git"
      ],
      "metadata": {
        "id": "Y0P5n8lBMJ1r",
        "outputId": "7923a563-c5e0-41ba-e02e-c11cc8aec067",
        "colab": {
          "base_uri": "https://localhost:8080/"
        }
      },
      "id": "Y0P5n8lBMJ1r",
      "execution_count": 1,
      "outputs": [
        {
          "output_type": "stream",
          "name": "stdout",
          "text": [
            "Collecting rdkit\n",
            "  Downloading rdkit-2024.9.6-cp311-cp311-manylinux_2_28_x86_64.whl.metadata (4.0 kB)\n",
            "Requirement already satisfied: numpy in /usr/local/lib/python3.11/dist-packages (from rdkit) (2.0.2)\n",
            "Requirement already satisfied: Pillow in /usr/local/lib/python3.11/dist-packages (from rdkit) (11.1.0)\n",
            "Downloading rdkit-2024.9.6-cp311-cp311-manylinux_2_28_x86_64.whl (34.3 MB)\n",
            "\u001b[2K   \u001b[90m━━━━━━━━━━━━━━━━━━━━━━━━━━━━━━━━━━━━━━━━\u001b[0m \u001b[32m34.3/34.3 MB\u001b[0m \u001b[31m46.2 MB/s\u001b[0m eta \u001b[36m0:00:00\u001b[0m\n",
            "\u001b[?25hInstalling collected packages: rdkit\n",
            "Successfully installed rdkit-2024.9.6\n",
            "Cloning into 'BANDNN_pytorch'...\n",
            "remote: Enumerating objects: 9, done.\u001b[K\n",
            "remote: Counting objects: 100% (9/9), done.\u001b[K\n",
            "remote: Compressing objects: 100% (7/7), done.\u001b[K\n",
            "remote: Total 9 (delta 0), reused 0 (delta 0), pack-reused 0 (from 0)\u001b[K\n",
            "Receiving objects: 100% (9/9), 8.71 KiB | 8.71 MiB/s, done.\n",
            "Cloning into 'ANI1_dataset'...\n",
            "remote: Enumerating objects: 81, done.\u001b[K\n",
            "remote: Counting objects: 100% (18/18), done.\u001b[K\n",
            "remote: Compressing objects: 100% (13/13), done.\u001b[K\n",
            "remote: Total 81 (delta 6), reused 13 (delta 4), pack-reused 63 (from 1)\u001b[K\n",
            "Receiving objects: 100% (81/81), 2.69 MiB | 24.59 MiB/s, done.\n",
            "Resolving deltas: 100% (36/36), done.\n"
          ]
        }
      ]
    },
    {
      "cell_type": "code",
      "source": [
        "!export PYTHONPATH=\"${PYTHONPATH}:/content/ANI1_dataset/readers/lib to PYTHONPATH\""
      ],
      "metadata": {
        "id": "jzfxLFSFMfmZ"
      },
      "id": "jzfxLFSFMfmZ",
      "execution_count": 2,
      "outputs": []
    },
    {
      "cell_type": "code",
      "execution_count": 4,
      "id": "437cff80",
      "metadata": {
        "id": "437cff80"
      },
      "outputs": [],
      "source": [
        "import pandas as pd\n",
        "from sklearn.model_selection import train_test_split\n",
        "import torch\n",
        "from torch.utils.data import Dataset, DataLoader\n",
        "import torch.nn as nn\n",
        "import torch.optim as optim\n",
        "import matplotlib.pyplot as plt\n",
        "import lib.pyanitools as pya\n",
        "import os\n",
        "\n",
        "device = 'cuda' if torch.cuda.is_available() else 'cpu'"
      ]
    },
    {
      "cell_type": "code",
      "source": [
        "from google.colab import drive\n",
        "drive.mount('/content/drive')"
      ],
      "metadata": {
        "id": "yyPKElDqMigv",
        "outputId": "93b347c5-b904-4a17-b62d-4a52fca2b2fd",
        "colab": {
          "base_uri": "https://localhost:8080/"
        }
      },
      "id": "yyPKElDqMigv",
      "execution_count": 3,
      "outputs": [
        {
          "output_type": "stream",
          "name": "stdout",
          "text": [
            "Mounted at /content/drive\n"
          ]
        }
      ]
    },
    {
      "cell_type": "code",
      "execution_count": 5,
      "id": "955caed5",
      "metadata": {
        "id": "955caed5",
        "outputId": "9b5bf80a-cc58-4d73-cad6-2c0218404477",
        "colab": {
          "base_uri": "https://localhost:8080/"
        }
      },
      "outputs": [
        {
          "output_type": "stream",
          "name": "stdout",
          "text": [
            "100000\n"
          ]
        }
      ],
      "source": [
        "import h5py\n",
        "\n",
        "features_list = []\n",
        "with h5py.File('/content/drive/MyDrive/bandnn_datasets/molecules.h5', 'r') as h5f:\n",
        "    for mol_key in h5f.keys():\n",
        "        group = h5f[mol_key]\n",
        "        mol_data = {key: group[key][()] for key in group}\n",
        "        # Decode bytes to strings if needed\n",
        "        for k, v in mol_data.items():\n",
        "            if isinstance(v, bytes):\n",
        "                mol_data[k] = v.decode('utf-8')\n",
        "        features_list.append(mol_data)\n",
        "\n",
        "print(len(features_list))"
      ]
    },
    {
      "cell_type": "code",
      "execution_count": 6,
      "id": "ba9ca7a6",
      "metadata": {
        "id": "ba9ca7a6"
      },
      "outputs": [],
      "source": [
        "y = pd.read_csv('/content/drive/MyDrive/bandnn_datasets/energy_list.csv').values"
      ]
    },
    {
      "cell_type": "code",
      "execution_count": 7,
      "id": "92cab595",
      "metadata": {
        "id": "92cab595"
      },
      "outputs": [],
      "source": [
        "X_train, X_test, y_train, y_test = train_test_split(\n",
        "    features_list, y, test_size=0.2, random_state=42\n",
        ")"
      ]
    },
    {
      "cell_type": "code",
      "execution_count": 23,
      "id": "ccc3fa8c",
      "metadata": {
        "id": "ccc3fa8c"
      },
      "outputs": [],
      "source": [
        "# create CustomDataset Class\n",
        "\n",
        "class BondDataset(Dataset):\n",
        "\n",
        "  def __init__(self, bond_features, targets):\n",
        "    self.bond_features = bond_features\n",
        "    self.targets = torch.tensor(targets, dtype=torch.float32)\n",
        "\n",
        "  def __len__(self):\n",
        "    return len(self.targets)\n",
        "\n",
        "  def __getitem__(self, index):\n",
        "    return self.bond_features[index], self.targets[index]\n",
        "\n",
        "class AnglesDataset(Dataset):\n",
        "\n",
        "  def __init__(self, angle_features, targets):\n",
        "\n",
        "    self.angle_features = angle_features\n",
        "    self.targets = torch.tensor(targets, dtype=torch.float32)\n",
        "\n",
        "  def __len__(self):\n",
        "    return len(self.targets)\n",
        "\n",
        "  def __getitem__(self, index):\n",
        "    return self.angle_features[index],  self.targets[index]\n",
        "\n",
        "class NonbondData(Dataset):\n",
        "\n",
        "  def __init__(self, nonbond_features, targets):\n",
        "    self.nonbond_features = nonbond_features\n",
        "    self.targets = torch.tensor(targets, dtype=torch.float32)\n",
        "\n",
        "  def __len__(self):\n",
        "    return len(self.targets)\n",
        "\n",
        "  def __getitem__(self, index):\n",
        "    return self.nonbond_features[index], self.targets[index]\n",
        "\n",
        "class DihedralData(Dataset):\n",
        "\n",
        "  def __init__(self, dihedral_features, targets):\n",
        "    self.dihedral_features = dihedral_features\n",
        "    self.targets = torch.tensor(targets, dtype=torch.float32)\n",
        "\n",
        "  def __len__(self):\n",
        "    return len(self.targets)\n",
        "\n",
        "  def __getitem__(self, index):\n",
        "    return self.dihedral_features[index], self.targets[index]"
      ]
    },
    {
      "cell_type": "code",
      "execution_count": 9,
      "id": "b62c574d",
      "metadata": {
        "id": "b62c574d"
      },
      "outputs": [],
      "source": [
        "# create train_dataset object\n",
        "X_train_bond_feat = [d['bonds'] for d in X_train]\n",
        "X_train_angle_feat = [d['angles'] for d in X_train]\n",
        "X_train_nonbond_feat = [d['nonbonds'] for d in X_train]\n",
        "X_train_dihedral_feat = [d['dihedrals'] for d in X_train]\n",
        "\n",
        "X_test_bond_feat = [d['bonds'] for d in X_test]\n",
        "X_test_angle_feat = [d['angles'] for d in X_test]\n",
        "X_test_nonbond_feat = [d['nonbonds'] for d in X_test]\n",
        "X_test_dihedral_Feat = [d['dihedrals'] for d in X_test]"
      ]
    },
    {
      "cell_type": "code",
      "execution_count": 10,
      "id": "61e89321",
      "metadata": {
        "id": "61e89321",
        "outputId": "6b4e1581-3694-4f69-a96a-7888b0f016ee",
        "colab": {
          "base_uri": "https://localhost:8080/"
        }
      },
      "outputs": [
        {
          "output_type": "execute_result",
          "data": {
            "text/plain": [
              "((42, 27), (21, 17))"
            ]
          },
          "metadata": {},
          "execution_count": 10
        }
      ],
      "source": [
        "X_train_angle_feat[0].shape, X_train_bond_feat[0].shape"
      ]
    },
    {
      "cell_type": "code",
      "execution_count": 24,
      "id": "7967f113",
      "metadata": {
        "id": "7967f113"
      },
      "outputs": [],
      "source": [
        "train_dataset1 = BondDataset(X_train_bond_feat, y_train)\n",
        "test_dataset1 = BondDataset(X_test_bond_feat, y_test)\n",
        "\n",
        "train_dataset2 = AnglesDataset(X_train_angle_feat, y_train)\n",
        "test_dataset2 = AnglesDataset(X_test_angle_feat, y_test)\n",
        "\n",
        "train_dataset3 = NonbondData(X_train_nonbond_feat, y_train)\n",
        "test_dataset3 = NonbondData(X_test_nonbond_feat, y_test)\n",
        "\n",
        "train_trainset4 = DihedralData(X_train_dihedral_feat, y_train)\n",
        "test_dataset4 = DihedralData(X_test_dihedral_Feat, y_test)"
      ]
    },
    {
      "cell_type": "code",
      "execution_count": 25,
      "id": "68c22e3c",
      "metadata": {
        "id": "68c22e3c"
      },
      "outputs": [],
      "source": [
        "train_loader1 = DataLoader(train_dataset1, batch_size=32, shuffle=True, pin_memory=True)\n",
        "test_loader1 = DataLoader(test_dataset1, batch_size=32, shuffle=False, pin_memory=True)\n",
        "\n",
        "train_loader2 = DataLoader(train_dataset2, batch_size=32, shuffle=True, pin_memory=True)\n",
        "test_loader2 = DataLoader(test_dataset2, batch_size=32, shuffle=False, pin_memory=True)\n",
        "\n",
        "train_loader3 = DataLoader(train_dataset3, batch_size=32, shuffle=True, pin_memory=True)\n",
        "test_loader3 = DataLoader(test_dataset3, batch_size=32, shuffle=False, pin_memory=True)\n",
        "\n",
        "train_loader4 = DataLoader(train_trainset4, batch_size=32, shuffle=True, pin_memory=True)\n",
        "test_loader4 = DataLoader(test_dataset4, batch_size=32, shuffle=False, pin_memory=True)"
      ]
    },
    {
      "cell_type": "code",
      "execution_count": 13,
      "id": "34325958",
      "metadata": {
        "id": "34325958"
      },
      "outputs": [],
      "source": [
        "BONDS_DIM, ANGLES_DIM, NONBONDS_DIM, DIHEDRALS_DIM = 17, 27, 17, 38"
      ]
    },
    {
      "cell_type": "code",
      "execution_count": 15,
      "id": "05bfc17b",
      "metadata": {
        "id": "05bfc17b"
      },
      "outputs": [],
      "source": [
        "def make_tensor(seq):\n",
        "    return torch.tensor(seq, dtype=torch.float32)"
      ]
    },
    {
      "cell_type": "code",
      "execution_count": 16,
      "id": "c55ce462",
      "metadata": {
        "id": "c55ce462"
      },
      "outputs": [],
      "source": [
        "class BANDNN(nn.Module):\n",
        "\n",
        "  def __init__(self, bonds_input_dim, angles_input_dim, nonbonds_input_dim, dihedral_input_dim):\n",
        "    super().__init__()\n",
        "    self.bonds_model = nn.Sequential(\n",
        "        nn.Linear(bonds_input_dim, 128),\n",
        "        nn.ReLU(),\n",
        "        nn.Linear(128, 256),\n",
        "        nn.ReLU(),\n",
        "        nn.Linear(256, 128),\n",
        "        nn.ReLU(),\n",
        "        nn.Linear(128, 1)\n",
        "    )\n",
        "\n",
        "    self.angles_model = nn.Sequential(\n",
        "        nn.Linear(angles_input_dim, 128),\n",
        "        nn.ReLU(),\n",
        "        nn.Linear(128, 350),\n",
        "        nn.ReLU(),\n",
        "        nn.Linear(350, 128),\n",
        "        nn.ReLU(),\n",
        "        nn.Linear(128, 1)\n",
        "    )\n",
        "\n",
        "    self.nonbonds_model = nn.Sequential(\n",
        "        nn.Linear(nonbonds_input_dim, 128),\n",
        "        nn.ReLU(),\n",
        "        nn.Linear(128, 256),\n",
        "        nn.ReLU(),\n",
        "        nn.Linear(256, 128),\n",
        "        nn.ReLU(),\n",
        "        nn.Linear(128, 1)\n",
        "    )\n",
        "\n",
        "    self.dihedrals_model = nn.Sequential(\n",
        "        nn.Linear(dihedral_input_dim, 128),\n",
        "        nn.ReLU(),\n",
        "        nn.Linear(128, 512),\n",
        "        nn.ReLU(),\n",
        "        nn.Linear(512, 128),\n",
        "        nn.ReLU(),\n",
        "        nn.Linear(128, 1)\n",
        "    )\n",
        "\n",
        "  def forward(self, bonds_input,angles_input, non_bonds_input, dihedrals_input):\n",
        "\n",
        "    bonds_energy = make_tensor([self.bonds_model(make_tensor(bond_input)) for bond_input in bonds_input])\n",
        "    angles_energy = make_tensor([self.angles_model(make_tensor(angle_input)) for angle_input in angles_input])\n",
        "    nonbonds_energy = make_tensor([self.nonbonds_model(make_tensor(non_bond_input))for non_bond_input in non_bonds_input])\n",
        "    dihedrals_energy =  make_tensor([self.dihedrals_model(make_tensor(dihedral_input)) for dihedral_input in dihedrals_input])\n",
        "    total_energy =  torch.sum(bonds_energy) + torch.sum(angles_energy) + torch.sum(nonbonds_energy) + torch.sum(dihedrals_energy)\n",
        "\n",
        "    return total_energy"
      ]
    },
    {
      "cell_type": "code",
      "source": [
        "!pip install torchinfo"
      ],
      "metadata": {
        "id": "gWwpXhXEO47N",
        "outputId": "0a1d0a1b-9523-4b0d-aaa1-b47ad8445263",
        "colab": {
          "base_uri": "https://localhost:8080/"
        }
      },
      "id": "gWwpXhXEO47N",
      "execution_count": 14,
      "outputs": [
        {
          "output_type": "stream",
          "name": "stdout",
          "text": [
            "Collecting torchinfo\n",
            "  Downloading torchinfo-1.8.0-py3-none-any.whl.metadata (21 kB)\n",
            "Downloading torchinfo-1.8.0-py3-none-any.whl (23 kB)\n",
            "Installing collected packages: torchinfo\n",
            "Successfully installed torchinfo-1.8.0\n"
          ]
        }
      ]
    },
    {
      "cell_type": "code",
      "execution_count": 17,
      "id": "aa1b7794",
      "metadata": {
        "id": "aa1b7794",
        "outputId": "2f4972cd-3145-4c5c-aeeb-d63a86c767f3",
        "colab": {
          "base_uri": "https://localhost:8080/"
        }
      },
      "outputs": [
        {
          "output_type": "execute_result",
          "data": {
            "text/plain": [
              "=================================================================\n",
              "Layer (type:depth-idx)                   Param #\n",
              "=================================================================\n",
              "BANDNN                                   --\n",
              "├─Sequential: 1-1                        --\n",
              "│    └─Linear: 2-1                       2,304\n",
              "│    └─ReLU: 2-2                         --\n",
              "│    └─Linear: 2-3                       33,024\n",
              "│    └─ReLU: 2-4                         --\n",
              "│    └─Linear: 2-5                       32,896\n",
              "│    └─ReLU: 2-6                         --\n",
              "│    └─Linear: 2-7                       129\n",
              "├─Sequential: 1-2                        --\n",
              "│    └─Linear: 2-8                       3,584\n",
              "│    └─ReLU: 2-9                         --\n",
              "│    └─Linear: 2-10                      45,150\n",
              "│    └─ReLU: 2-11                        --\n",
              "│    └─Linear: 2-12                      44,928\n",
              "│    └─ReLU: 2-13                        --\n",
              "│    └─Linear: 2-14                      129\n",
              "├─Sequential: 1-3                        --\n",
              "│    └─Linear: 2-15                      2,304\n",
              "│    └─ReLU: 2-16                        --\n",
              "│    └─Linear: 2-17                      33,024\n",
              "│    └─ReLU: 2-18                        --\n",
              "│    └─Linear: 2-19                      32,896\n",
              "│    └─ReLU: 2-20                        --\n",
              "│    └─Linear: 2-21                      129\n",
              "├─Sequential: 1-4                        --\n",
              "│    └─Linear: 2-22                      4,992\n",
              "│    └─ReLU: 2-23                        --\n",
              "│    └─Linear: 2-24                      66,048\n",
              "│    └─ReLU: 2-25                        --\n",
              "│    └─Linear: 2-26                      65,664\n",
              "│    └─ReLU: 2-27                        --\n",
              "│    └─Linear: 2-28                      129\n",
              "=================================================================\n",
              "Total params: 367,330\n",
              "Trainable params: 367,330\n",
              "Non-trainable params: 0\n",
              "================================================================="
            ]
          },
          "metadata": {},
          "execution_count": 17
        }
      ],
      "source": [
        "from torchinfo import summary\n",
        "model = BANDNN(17, 27, 17, 38)\n",
        "model = model.to(device)\n",
        "# model.summary()\n",
        "summary(model)"
      ]
    },
    {
      "cell_type": "code",
      "execution_count": 18,
      "id": "10094ccd",
      "metadata": {
        "id": "10094ccd"
      },
      "outputs": [],
      "source": [
        "epochs = 20\n",
        "learning_rate = 0.1\n",
        "\n",
        "# loss func\n",
        "criterion = nn.MSELoss()\n",
        "\n",
        "# optimizer\n",
        "optimizer = optim.SGD(model.parameters(), lr=learning_rate)"
      ]
    },
    {
      "cell_type": "code",
      "execution_count": null,
      "id": "61dd57a5",
      "metadata": {
        "id": "61dd57a5"
      },
      "outputs": [],
      "source": [
        "b = torch.tensor(X_train_bond_feat[0], dtype=torch.float32)\n",
        "a = torch.tensor(X_train_angle_feat[0], dtype=torch.float32)\n",
        "n = torch.tensor(X_train_nonbond_feat[0], dtype=torch.float32)\n",
        "d = torch.tensor(X_train_dihedral_feat[0], dtype=torch.float32)\n",
        "\n",
        "output = model(b, a, n, d)"
      ]
    },
    {
      "cell_type": "code",
      "execution_count": null,
      "id": "651e0d88",
      "metadata": {
        "id": "651e0d88",
        "outputId": "0426f8d7-371f-4127-f421-685803504540"
      },
      "outputs": [
        {
          "data": {
            "text/plain": [
              "tensor(3.7860)"
            ]
          },
          "execution_count": 49,
          "metadata": {},
          "output_type": "execute_result"
        }
      ],
      "source": [
        "output"
      ]
    },
    {
      "cell_type": "code",
      "source": [
        "for a, b in train_loader4:\n",
        "  print(a, b)\n",
        "  break"
      ],
      "metadata": {
        "id": "JIQmb4waPKnc",
        "outputId": "147053b3-2ec5-4b1d-bd53-0bc387f52c1f",
        "colab": {
          "base_uri": "https://localhost:8080/",
          "height": 321
        }
      },
      "id": "JIQmb4waPKnc",
      "execution_count": 26,
      "outputs": [
        {
          "output_type": "error",
          "ename": "RuntimeError",
          "evalue": "stack expects each tensor to be equal size, but got [69, 38] at entry 0 and [54, 38] at entry 1",
          "traceback": [
            "\u001b[0;31m---------------------------------------------------------------------------\u001b[0m",
            "\u001b[0;31mRuntimeError\u001b[0m                              Traceback (most recent call last)",
            "\u001b[0;32m<ipython-input-26-8a7e3012dcc6>\u001b[0m in \u001b[0;36m<cell line: 0>\u001b[0;34m()\u001b[0m\n\u001b[0;32m----> 1\u001b[0;31m \u001b[0;32mfor\u001b[0m \u001b[0ma\u001b[0m\u001b[0;34m,\u001b[0m \u001b[0mb\u001b[0m \u001b[0;32min\u001b[0m \u001b[0mtrain_loader4\u001b[0m\u001b[0;34m:\u001b[0m\u001b[0;34m\u001b[0m\u001b[0;34m\u001b[0m\u001b[0m\n\u001b[0m\u001b[1;32m      2\u001b[0m   \u001b[0mprint\u001b[0m\u001b[0;34m(\u001b[0m\u001b[0ma\u001b[0m\u001b[0;34m,\u001b[0m \u001b[0mb\u001b[0m\u001b[0;34m)\u001b[0m\u001b[0;34m\u001b[0m\u001b[0;34m\u001b[0m\u001b[0m\n\u001b[1;32m      3\u001b[0m   \u001b[0;32mbreak\u001b[0m\u001b[0;34m\u001b[0m\u001b[0;34m\u001b[0m\u001b[0m\n",
            "\u001b[0;32m/usr/local/lib/python3.11/dist-packages/torch/utils/data/dataloader.py\u001b[0m in \u001b[0;36m__next__\u001b[0;34m(self)\u001b[0m\n\u001b[1;32m    706\u001b[0m                 \u001b[0;31m# TODO(https://github.com/pytorch/pytorch/issues/76750)\u001b[0m\u001b[0;34m\u001b[0m\u001b[0;34m\u001b[0m\u001b[0m\n\u001b[1;32m    707\u001b[0m                 \u001b[0mself\u001b[0m\u001b[0;34m.\u001b[0m\u001b[0m_reset\u001b[0m\u001b[0;34m(\u001b[0m\u001b[0;34m)\u001b[0m  \u001b[0;31m# type: ignore[call-arg]\u001b[0m\u001b[0;34m\u001b[0m\u001b[0;34m\u001b[0m\u001b[0m\n\u001b[0;32m--> 708\u001b[0;31m             \u001b[0mdata\u001b[0m \u001b[0;34m=\u001b[0m \u001b[0mself\u001b[0m\u001b[0;34m.\u001b[0m\u001b[0m_next_data\u001b[0m\u001b[0;34m(\u001b[0m\u001b[0;34m)\u001b[0m\u001b[0;34m\u001b[0m\u001b[0;34m\u001b[0m\u001b[0m\n\u001b[0m\u001b[1;32m    709\u001b[0m             \u001b[0mself\u001b[0m\u001b[0;34m.\u001b[0m\u001b[0m_num_yielded\u001b[0m \u001b[0;34m+=\u001b[0m \u001b[0;36m1\u001b[0m\u001b[0;34m\u001b[0m\u001b[0;34m\u001b[0m\u001b[0m\n\u001b[1;32m    710\u001b[0m             if (\n",
            "\u001b[0;32m/usr/local/lib/python3.11/dist-packages/torch/utils/data/dataloader.py\u001b[0m in \u001b[0;36m_next_data\u001b[0;34m(self)\u001b[0m\n\u001b[1;32m    762\u001b[0m     \u001b[0;32mdef\u001b[0m \u001b[0m_next_data\u001b[0m\u001b[0;34m(\u001b[0m\u001b[0mself\u001b[0m\u001b[0;34m)\u001b[0m\u001b[0;34m:\u001b[0m\u001b[0;34m\u001b[0m\u001b[0;34m\u001b[0m\u001b[0m\n\u001b[1;32m    763\u001b[0m         \u001b[0mindex\u001b[0m \u001b[0;34m=\u001b[0m \u001b[0mself\u001b[0m\u001b[0;34m.\u001b[0m\u001b[0m_next_index\u001b[0m\u001b[0;34m(\u001b[0m\u001b[0;34m)\u001b[0m  \u001b[0;31m# may raise StopIteration\u001b[0m\u001b[0;34m\u001b[0m\u001b[0;34m\u001b[0m\u001b[0m\n\u001b[0;32m--> 764\u001b[0;31m         \u001b[0mdata\u001b[0m \u001b[0;34m=\u001b[0m \u001b[0mself\u001b[0m\u001b[0;34m.\u001b[0m\u001b[0m_dataset_fetcher\u001b[0m\u001b[0;34m.\u001b[0m\u001b[0mfetch\u001b[0m\u001b[0;34m(\u001b[0m\u001b[0mindex\u001b[0m\u001b[0;34m)\u001b[0m  \u001b[0;31m# may raise StopIteration\u001b[0m\u001b[0;34m\u001b[0m\u001b[0;34m\u001b[0m\u001b[0m\n\u001b[0m\u001b[1;32m    765\u001b[0m         \u001b[0;32mif\u001b[0m \u001b[0mself\u001b[0m\u001b[0;34m.\u001b[0m\u001b[0m_pin_memory\u001b[0m\u001b[0;34m:\u001b[0m\u001b[0;34m\u001b[0m\u001b[0;34m\u001b[0m\u001b[0m\n\u001b[1;32m    766\u001b[0m             \u001b[0mdata\u001b[0m \u001b[0;34m=\u001b[0m \u001b[0m_utils\u001b[0m\u001b[0;34m.\u001b[0m\u001b[0mpin_memory\u001b[0m\u001b[0;34m.\u001b[0m\u001b[0mpin_memory\u001b[0m\u001b[0;34m(\u001b[0m\u001b[0mdata\u001b[0m\u001b[0;34m,\u001b[0m \u001b[0mself\u001b[0m\u001b[0;34m.\u001b[0m\u001b[0m_pin_memory_device\u001b[0m\u001b[0;34m)\u001b[0m\u001b[0;34m\u001b[0m\u001b[0;34m\u001b[0m\u001b[0m\n",
            "\u001b[0;32m/usr/local/lib/python3.11/dist-packages/torch/utils/data/_utils/fetch.py\u001b[0m in \u001b[0;36mfetch\u001b[0;34m(self, possibly_batched_index)\u001b[0m\n\u001b[1;32m     53\u001b[0m         \u001b[0;32melse\u001b[0m\u001b[0;34m:\u001b[0m\u001b[0;34m\u001b[0m\u001b[0;34m\u001b[0m\u001b[0m\n\u001b[1;32m     54\u001b[0m             \u001b[0mdata\u001b[0m \u001b[0;34m=\u001b[0m \u001b[0mself\u001b[0m\u001b[0;34m.\u001b[0m\u001b[0mdataset\u001b[0m\u001b[0;34m[\u001b[0m\u001b[0mpossibly_batched_index\u001b[0m\u001b[0;34m]\u001b[0m\u001b[0;34m\u001b[0m\u001b[0;34m\u001b[0m\u001b[0m\n\u001b[0;32m---> 55\u001b[0;31m         \u001b[0;32mreturn\u001b[0m \u001b[0mself\u001b[0m\u001b[0;34m.\u001b[0m\u001b[0mcollate_fn\u001b[0m\u001b[0;34m(\u001b[0m\u001b[0mdata\u001b[0m\u001b[0;34m)\u001b[0m\u001b[0;34m\u001b[0m\u001b[0;34m\u001b[0m\u001b[0m\n\u001b[0m",
            "\u001b[0;32m/usr/local/lib/python3.11/dist-packages/torch/utils/data/_utils/collate.py\u001b[0m in \u001b[0;36mdefault_collate\u001b[0;34m(batch)\u001b[0m\n\u001b[1;32m    396\u001b[0m         \u001b[0;34m>>\u001b[0m\u001b[0;34m>\u001b[0m \u001b[0mdefault_collate\u001b[0m\u001b[0;34m(\u001b[0m\u001b[0mbatch\u001b[0m\u001b[0;34m)\u001b[0m  \u001b[0;31m# Handle `CustomType` automatically\u001b[0m\u001b[0;34m\u001b[0m\u001b[0;34m\u001b[0m\u001b[0m\n\u001b[1;32m    397\u001b[0m     \"\"\"\n\u001b[0;32m--> 398\u001b[0;31m     \u001b[0;32mreturn\u001b[0m \u001b[0mcollate\u001b[0m\u001b[0;34m(\u001b[0m\u001b[0mbatch\u001b[0m\u001b[0;34m,\u001b[0m \u001b[0mcollate_fn_map\u001b[0m\u001b[0;34m=\u001b[0m\u001b[0mdefault_collate_fn_map\u001b[0m\u001b[0;34m)\u001b[0m\u001b[0;34m\u001b[0m\u001b[0;34m\u001b[0m\u001b[0m\n\u001b[0m",
            "\u001b[0;32m/usr/local/lib/python3.11/dist-packages/torch/utils/data/_utils/collate.py\u001b[0m in \u001b[0;36mcollate\u001b[0;34m(batch, collate_fn_map)\u001b[0m\n\u001b[1;32m    209\u001b[0m \u001b[0;34m\u001b[0m\u001b[0m\n\u001b[1;32m    210\u001b[0m         \u001b[0;32mif\u001b[0m \u001b[0misinstance\u001b[0m\u001b[0;34m(\u001b[0m\u001b[0melem\u001b[0m\u001b[0;34m,\u001b[0m \u001b[0mtuple\u001b[0m\u001b[0;34m)\u001b[0m\u001b[0;34m:\u001b[0m\u001b[0;34m\u001b[0m\u001b[0;34m\u001b[0m\u001b[0m\n\u001b[0;32m--> 211\u001b[0;31m             return [\n\u001b[0m\u001b[1;32m    212\u001b[0m                 \u001b[0mcollate\u001b[0m\u001b[0;34m(\u001b[0m\u001b[0msamples\u001b[0m\u001b[0;34m,\u001b[0m \u001b[0mcollate_fn_map\u001b[0m\u001b[0;34m=\u001b[0m\u001b[0mcollate_fn_map\u001b[0m\u001b[0;34m)\u001b[0m\u001b[0;34m\u001b[0m\u001b[0;34m\u001b[0m\u001b[0m\n\u001b[1;32m    213\u001b[0m                 \u001b[0;32mfor\u001b[0m \u001b[0msamples\u001b[0m \u001b[0;32min\u001b[0m \u001b[0mtransposed\u001b[0m\u001b[0;34m\u001b[0m\u001b[0;34m\u001b[0m\u001b[0m\n",
            "\u001b[0;32m/usr/local/lib/python3.11/dist-packages/torch/utils/data/_utils/collate.py\u001b[0m in \u001b[0;36m<listcomp>\u001b[0;34m(.0)\u001b[0m\n\u001b[1;32m    210\u001b[0m         \u001b[0;32mif\u001b[0m \u001b[0misinstance\u001b[0m\u001b[0;34m(\u001b[0m\u001b[0melem\u001b[0m\u001b[0;34m,\u001b[0m \u001b[0mtuple\u001b[0m\u001b[0;34m)\u001b[0m\u001b[0;34m:\u001b[0m\u001b[0;34m\u001b[0m\u001b[0;34m\u001b[0m\u001b[0m\n\u001b[1;32m    211\u001b[0m             return [\n\u001b[0;32m--> 212\u001b[0;31m                 \u001b[0mcollate\u001b[0m\u001b[0;34m(\u001b[0m\u001b[0msamples\u001b[0m\u001b[0;34m,\u001b[0m \u001b[0mcollate_fn_map\u001b[0m\u001b[0;34m=\u001b[0m\u001b[0mcollate_fn_map\u001b[0m\u001b[0;34m)\u001b[0m\u001b[0;34m\u001b[0m\u001b[0;34m\u001b[0m\u001b[0m\n\u001b[0m\u001b[1;32m    213\u001b[0m                 \u001b[0;32mfor\u001b[0m \u001b[0msamples\u001b[0m \u001b[0;32min\u001b[0m \u001b[0mtransposed\u001b[0m\u001b[0;34m\u001b[0m\u001b[0;34m\u001b[0m\u001b[0m\n\u001b[1;32m    214\u001b[0m             ]  # Backwards compatibility.\n",
            "\u001b[0;32m/usr/local/lib/python3.11/dist-packages/torch/utils/data/_utils/collate.py\u001b[0m in \u001b[0;36mcollate\u001b[0;34m(batch, collate_fn_map)\u001b[0m\n\u001b[1;32m    153\u001b[0m     \u001b[0;32mif\u001b[0m \u001b[0mcollate_fn_map\u001b[0m \u001b[0;32mis\u001b[0m \u001b[0;32mnot\u001b[0m \u001b[0;32mNone\u001b[0m\u001b[0;34m:\u001b[0m\u001b[0;34m\u001b[0m\u001b[0;34m\u001b[0m\u001b[0m\n\u001b[1;32m    154\u001b[0m         \u001b[0;32mif\u001b[0m \u001b[0melem_type\u001b[0m \u001b[0;32min\u001b[0m \u001b[0mcollate_fn_map\u001b[0m\u001b[0;34m:\u001b[0m\u001b[0;34m\u001b[0m\u001b[0;34m\u001b[0m\u001b[0m\n\u001b[0;32m--> 155\u001b[0;31m             \u001b[0;32mreturn\u001b[0m \u001b[0mcollate_fn_map\u001b[0m\u001b[0;34m[\u001b[0m\u001b[0melem_type\u001b[0m\u001b[0;34m]\u001b[0m\u001b[0;34m(\u001b[0m\u001b[0mbatch\u001b[0m\u001b[0;34m,\u001b[0m \u001b[0mcollate_fn_map\u001b[0m\u001b[0;34m=\u001b[0m\u001b[0mcollate_fn_map\u001b[0m\u001b[0;34m)\u001b[0m\u001b[0;34m\u001b[0m\u001b[0;34m\u001b[0m\u001b[0m\n\u001b[0m\u001b[1;32m    156\u001b[0m \u001b[0;34m\u001b[0m\u001b[0m\n\u001b[1;32m    157\u001b[0m         \u001b[0;32mfor\u001b[0m \u001b[0mcollate_type\u001b[0m \u001b[0;32min\u001b[0m \u001b[0mcollate_fn_map\u001b[0m\u001b[0;34m:\u001b[0m\u001b[0;34m\u001b[0m\u001b[0;34m\u001b[0m\u001b[0m\n",
            "\u001b[0;32m/usr/local/lib/python3.11/dist-packages/torch/utils/data/_utils/collate.py\u001b[0m in \u001b[0;36mcollate_numpy_array_fn\u001b[0;34m(batch, collate_fn_map)\u001b[0m\n\u001b[1;32m    283\u001b[0m         \u001b[0;32mraise\u001b[0m \u001b[0mTypeError\u001b[0m\u001b[0;34m(\u001b[0m\u001b[0mdefault_collate_err_msg_format\u001b[0m\u001b[0;34m.\u001b[0m\u001b[0mformat\u001b[0m\u001b[0;34m(\u001b[0m\u001b[0melem\u001b[0m\u001b[0;34m.\u001b[0m\u001b[0mdtype\u001b[0m\u001b[0;34m)\u001b[0m\u001b[0;34m)\u001b[0m\u001b[0;34m\u001b[0m\u001b[0;34m\u001b[0m\u001b[0m\n\u001b[1;32m    284\u001b[0m \u001b[0;34m\u001b[0m\u001b[0m\n\u001b[0;32m--> 285\u001b[0;31m     \u001b[0;32mreturn\u001b[0m \u001b[0mcollate\u001b[0m\u001b[0;34m(\u001b[0m\u001b[0;34m[\u001b[0m\u001b[0mtorch\u001b[0m\u001b[0;34m.\u001b[0m\u001b[0mas_tensor\u001b[0m\u001b[0;34m(\u001b[0m\u001b[0mb\u001b[0m\u001b[0;34m)\u001b[0m \u001b[0;32mfor\u001b[0m \u001b[0mb\u001b[0m \u001b[0;32min\u001b[0m \u001b[0mbatch\u001b[0m\u001b[0;34m]\u001b[0m\u001b[0;34m,\u001b[0m \u001b[0mcollate_fn_map\u001b[0m\u001b[0;34m=\u001b[0m\u001b[0mcollate_fn_map\u001b[0m\u001b[0;34m)\u001b[0m\u001b[0;34m\u001b[0m\u001b[0;34m\u001b[0m\u001b[0m\n\u001b[0m\u001b[1;32m    286\u001b[0m \u001b[0;34m\u001b[0m\u001b[0m\n\u001b[1;32m    287\u001b[0m \u001b[0;34m\u001b[0m\u001b[0m\n",
            "\u001b[0;32m/usr/local/lib/python3.11/dist-packages/torch/utils/data/_utils/collate.py\u001b[0m in \u001b[0;36mcollate\u001b[0;34m(batch, collate_fn_map)\u001b[0m\n\u001b[1;32m    153\u001b[0m     \u001b[0;32mif\u001b[0m \u001b[0mcollate_fn_map\u001b[0m \u001b[0;32mis\u001b[0m \u001b[0;32mnot\u001b[0m \u001b[0;32mNone\u001b[0m\u001b[0;34m:\u001b[0m\u001b[0;34m\u001b[0m\u001b[0;34m\u001b[0m\u001b[0m\n\u001b[1;32m    154\u001b[0m         \u001b[0;32mif\u001b[0m \u001b[0melem_type\u001b[0m \u001b[0;32min\u001b[0m \u001b[0mcollate_fn_map\u001b[0m\u001b[0;34m:\u001b[0m\u001b[0;34m\u001b[0m\u001b[0;34m\u001b[0m\u001b[0m\n\u001b[0;32m--> 155\u001b[0;31m             \u001b[0;32mreturn\u001b[0m \u001b[0mcollate_fn_map\u001b[0m\u001b[0;34m[\u001b[0m\u001b[0melem_type\u001b[0m\u001b[0;34m]\u001b[0m\u001b[0;34m(\u001b[0m\u001b[0mbatch\u001b[0m\u001b[0;34m,\u001b[0m \u001b[0mcollate_fn_map\u001b[0m\u001b[0;34m=\u001b[0m\u001b[0mcollate_fn_map\u001b[0m\u001b[0;34m)\u001b[0m\u001b[0;34m\u001b[0m\u001b[0;34m\u001b[0m\u001b[0m\n\u001b[0m\u001b[1;32m    156\u001b[0m \u001b[0;34m\u001b[0m\u001b[0m\n\u001b[1;32m    157\u001b[0m         \u001b[0;32mfor\u001b[0m \u001b[0mcollate_type\u001b[0m \u001b[0;32min\u001b[0m \u001b[0mcollate_fn_map\u001b[0m\u001b[0;34m:\u001b[0m\u001b[0;34m\u001b[0m\u001b[0;34m\u001b[0m\u001b[0m\n",
            "\u001b[0;32m/usr/local/lib/python3.11/dist-packages/torch/utils/data/_utils/collate.py\u001b[0m in \u001b[0;36mcollate_tensor_fn\u001b[0;34m(batch, collate_fn_map)\u001b[0m\n\u001b[1;32m    270\u001b[0m         \u001b[0mstorage\u001b[0m \u001b[0;34m=\u001b[0m \u001b[0melem\u001b[0m\u001b[0;34m.\u001b[0m\u001b[0m_typed_storage\u001b[0m\u001b[0;34m(\u001b[0m\u001b[0;34m)\u001b[0m\u001b[0;34m.\u001b[0m\u001b[0m_new_shared\u001b[0m\u001b[0;34m(\u001b[0m\u001b[0mnumel\u001b[0m\u001b[0;34m,\u001b[0m \u001b[0mdevice\u001b[0m\u001b[0;34m=\u001b[0m\u001b[0melem\u001b[0m\u001b[0;34m.\u001b[0m\u001b[0mdevice\u001b[0m\u001b[0;34m)\u001b[0m\u001b[0;34m\u001b[0m\u001b[0;34m\u001b[0m\u001b[0m\n\u001b[1;32m    271\u001b[0m         \u001b[0mout\u001b[0m \u001b[0;34m=\u001b[0m \u001b[0melem\u001b[0m\u001b[0;34m.\u001b[0m\u001b[0mnew\u001b[0m\u001b[0;34m(\u001b[0m\u001b[0mstorage\u001b[0m\u001b[0;34m)\u001b[0m\u001b[0;34m.\u001b[0m\u001b[0mresize_\u001b[0m\u001b[0;34m(\u001b[0m\u001b[0mlen\u001b[0m\u001b[0;34m(\u001b[0m\u001b[0mbatch\u001b[0m\u001b[0;34m)\u001b[0m\u001b[0;34m,\u001b[0m \u001b[0;34m*\u001b[0m\u001b[0mlist\u001b[0m\u001b[0;34m(\u001b[0m\u001b[0melem\u001b[0m\u001b[0;34m.\u001b[0m\u001b[0msize\u001b[0m\u001b[0;34m(\u001b[0m\u001b[0;34m)\u001b[0m\u001b[0;34m)\u001b[0m\u001b[0;34m)\u001b[0m\u001b[0;34m\u001b[0m\u001b[0;34m\u001b[0m\u001b[0m\n\u001b[0;32m--> 272\u001b[0;31m     \u001b[0;32mreturn\u001b[0m \u001b[0mtorch\u001b[0m\u001b[0;34m.\u001b[0m\u001b[0mstack\u001b[0m\u001b[0;34m(\u001b[0m\u001b[0mbatch\u001b[0m\u001b[0;34m,\u001b[0m \u001b[0;36m0\u001b[0m\u001b[0;34m,\u001b[0m \u001b[0mout\u001b[0m\u001b[0;34m=\u001b[0m\u001b[0mout\u001b[0m\u001b[0;34m)\u001b[0m\u001b[0;34m\u001b[0m\u001b[0;34m\u001b[0m\u001b[0m\n\u001b[0m\u001b[1;32m    273\u001b[0m \u001b[0;34m\u001b[0m\u001b[0m\n\u001b[1;32m    274\u001b[0m \u001b[0;34m\u001b[0m\u001b[0m\n",
            "\u001b[0;31mRuntimeError\u001b[0m: stack expects each tensor to be equal size, but got [69, 38] at entry 0 and [54, 38] at entry 1"
          ]
        }
      ]
    },
    {
      "cell_type": "code",
      "execution_count": null,
      "id": "3d31db22",
      "metadata": {
        "id": "3d31db22"
      },
      "outputs": [],
      "source": [
        "# training loop\n",
        "for epochs in range(epochs):\n",
        "\n",
        "    total_epoch_loss = 0\n",
        "    for bond_feat, angle_feat, nonbond_feat, dihedral_feat, energy_feat in train_loader:\n",
        "\n",
        "        bond_feat = bond_feat.to(device)\n",
        "        angle_feat = angle_feat.to(device)\n",
        "        nonbond_feat = nonbond_feat.to(device)\n",
        "        dihedral_feat = dihedral_feat.to(device)\n",
        "        energy_feat = energy_feat.to(device)\n",
        "\n",
        "        outputs = model(bond_feat, angle_feat, nonbond_feat, dihedral_feat)\n",
        "\n",
        "        loss = criterion(outputs, energy_feat)\n",
        "\n",
        "        optimizer.zero_grad()\n",
        "\n",
        "        # back pass\n",
        "        loss.backward()\n",
        "\n",
        "        # update params\n",
        "        optimizer.step()\n",
        "\n",
        "        total_epoch_loss = total_epoch_loss + loss.item()\n",
        "\n",
        "    avg_loss = total_epoch_loss/len(train_loader)\n",
        "    print(f'Epoch {epoch+1}, Loss: {avg_loss: .4f}')"
      ]
    },
    {
      "cell_type": "code",
      "execution_count": null,
      "id": "f3dc16d6",
      "metadata": {
        "id": "f3dc16d6",
        "outputId": "d243527f-c543-4aa8-fd4b-42d1887c7828"
      },
      "outputs": [
        {
          "data": {
            "text/plain": [
              "BANDNN(\n",
              "  (bonds_model): Sequential(\n",
              "    (0): Linear(in_features=17, out_features=128, bias=True)\n",
              "    (1): ReLU()\n",
              "    (2): Linear(in_features=128, out_features=256, bias=True)\n",
              "    (3): ReLU()\n",
              "    (4): Linear(in_features=256, out_features=128, bias=True)\n",
              "    (5): ReLU()\n",
              "    (6): Linear(in_features=128, out_features=1, bias=True)\n",
              "  )\n",
              "  (angles_model): Sequential(\n",
              "    (0): Linear(in_features=27, out_features=128, bias=True)\n",
              "    (1): ReLU()\n",
              "    (2): Linear(in_features=128, out_features=350, bias=True)\n",
              "    (3): ReLU()\n",
              "    (4): Linear(in_features=350, out_features=128, bias=True)\n",
              "    (5): ReLU()\n",
              "    (6): Linear(in_features=128, out_features=1, bias=True)\n",
              "  )\n",
              "  (nonbonds_model): Sequential(\n",
              "    (0): Linear(in_features=17, out_features=128, bias=True)\n",
              "    (1): ReLU()\n",
              "    (2): Linear(in_features=128, out_features=256, bias=True)\n",
              "    (3): ReLU()\n",
              "    (4): Linear(in_features=256, out_features=128, bias=True)\n",
              "    (5): ReLU()\n",
              "    (6): Linear(in_features=128, out_features=1, bias=True)\n",
              "  )\n",
              "  (dihedrals_model): Sequential(\n",
              "    (0): Linear(in_features=38, out_features=128, bias=True)\n",
              "    (1): ReLU()\n",
              "    (2): Linear(in_features=128, out_features=512, bias=True)\n",
              "    (3): ReLU()\n",
              "    (4): Linear(in_features=512, out_features=128, bias=True)\n",
              "    (5): ReLU()\n",
              "    (6): Linear(in_features=128, out_features=1, bias=True)\n",
              "  )\n",
              ")"
            ]
          },
          "execution_count": 59,
          "metadata": {},
          "output_type": "execute_result"
        }
      ],
      "source": [
        "model.eval()"
      ]
    },
    {
      "cell_type": "code",
      "execution_count": null,
      "id": "81151494",
      "metadata": {
        "id": "81151494"
      },
      "outputs": [],
      "source": []
    }
  ],
  "metadata": {
    "kernelspec": {
      "display_name": "matsci_env",
      "language": "python",
      "name": "python3"
    },
    "language_info": {
      "codemirror_mode": {
        "name": "ipython",
        "version": 3
      },
      "file_extension": ".py",
      "mimetype": "text/x-python",
      "name": "python",
      "nbconvert_exporter": "python",
      "pygments_lexer": "ipython3",
      "version": "3.12.3"
    },
    "colab": {
      "provenance": [],
      "include_colab_link": true
    }
  },
  "nbformat": 4,
  "nbformat_minor": 5
}