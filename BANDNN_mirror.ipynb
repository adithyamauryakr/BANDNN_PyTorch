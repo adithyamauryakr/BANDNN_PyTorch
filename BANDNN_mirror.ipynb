{
  "cells": [
    {
      "cell_type": "markdown",
      "metadata": {
        "id": "view-in-github",
        "colab_type": "text"
      },
      "source": [
        "<a href=\"https://colab.research.google.com/github/adithyamauryakr/BANDNN_pytorch/blob/main/BANDNN_mirror.ipynb\" target=\"_parent\"><img src=\"https://colab.research.google.com/assets/colab-badge.svg\" alt=\"Open In Colab\"/></a>"
      ]
    },
    {
      "cell_type": "code",
      "source": [
        "!pip install rdkit\n",
        "!git clone https://github.com/adithyamauryakr/BANDNN_pytorch.git\n",
        "!git clone https://github.com/isayev/ANI1_dataset.git"
      ],
      "metadata": {
        "colab": {
          "base_uri": "https://localhost:8080/"
        },
        "id": "Y0P5n8lBMJ1r",
        "outputId": "b10eeb40-46f5-4f81-9464-49258e518c96"
      },
      "id": "Y0P5n8lBMJ1r",
      "execution_count": 4,
      "outputs": [
        {
          "output_type": "stream",
          "name": "stdout",
          "text": [
            "Collecting rdkit\n",
            "  Downloading rdkit-2024.9.6-cp311-cp311-manylinux_2_28_x86_64.whl.metadata (4.0 kB)\n",
            "Requirement already satisfied: numpy in /usr/local/lib/python3.11/dist-packages (from rdkit) (2.0.2)\n",
            "Requirement already satisfied: Pillow in /usr/local/lib/python3.11/dist-packages (from rdkit) (11.1.0)\n",
            "Downloading rdkit-2024.9.6-cp311-cp311-manylinux_2_28_x86_64.whl (34.3 MB)\n",
            "\u001b[2K   \u001b[90m━━━━━━━━━━━━━━━━━━━━━━━━━━━━━━━━━━━━━━━━\u001b[0m \u001b[32m34.3/34.3 MB\u001b[0m \u001b[31m65.5 MB/s\u001b[0m eta \u001b[36m0:00:00\u001b[0m\n",
            "\u001b[?25hInstalling collected packages: rdkit\n",
            "Successfully installed rdkit-2024.9.6\n",
            "Cloning into 'BANDNN_pytorch'...\n",
            "remote: Enumerating objects: 58, done.\u001b[K\n",
            "remote: Counting objects: 100% (58/58), done.\u001b[K\n",
            "remote: Compressing objects: 100% (56/56), done.\u001b[K\n",
            "remote: Total 58 (delta 32), reused 0 (delta 0), pack-reused 0 (from 0)\u001b[K\n",
            "Receiving objects: 100% (58/58), 265.82 KiB | 1.03 MiB/s, done.\n",
            "Resolving deltas: 100% (32/32), done.\n",
            "Cloning into 'ANI1_dataset'...\n",
            "remote: Enumerating objects: 81, done.\u001b[K\n",
            "remote: Counting objects: 100% (18/18), done.\u001b[K\n",
            "remote: Compressing objects: 100% (13/13), done.\u001b[K\n",
            "remote: Total 81 (delta 6), reused 13 (delta 4), pack-reused 63 (from 1)\u001b[K\n",
            "Receiving objects: 100% (81/81), 2.69 MiB | 5.29 MiB/s, done.\n",
            "Resolving deltas: 100% (36/36), done.\n"
          ]
        }
      ]
    },
    {
      "cell_type": "code",
      "source": [
        "!export PYTHONPATH=\"${PYTHONPATH}:/content/ANI1_dataset/readers/lib to PYTHONPATH\""
      ],
      "metadata": {
        "id": "jzfxLFSFMfmZ"
      },
      "id": "jzfxLFSFMfmZ",
      "execution_count": 1,
      "outputs": []
    },
    {
      "cell_type": "code",
      "execution_count": 1,
      "id": "437cff80",
      "metadata": {
        "id": "437cff80"
      },
      "outputs": [],
      "source": [
        "import pandas as pd\n",
        "from sklearn.model_selection import train_test_split\n",
        "import torch\n",
        "from torch.utils.data import Dataset, DataLoader\n",
        "import torch.nn as nn\n",
        "import torch.optim as optim\n",
        "import matplotlib.pyplot as plt\n",
        "import lib.pyanitools as pya\n",
        "import os\n",
        "\n",
        "device = 'cuda' if torch.cuda.is_available() else 'cpu'"
      ]
    },
    {
      "cell_type": "code",
      "source": [
        "from google.colab import drive\n",
        "drive.mount('/content/drive', force_remount=True)"
      ],
      "metadata": {
        "colab": {
          "base_uri": "https://localhost:8080/"
        },
        "id": "yyPKElDqMigv",
        "outputId": "191737f2-7c29-4ef8-85e7-658b1c22fe57"
      },
      "id": "yyPKElDqMigv",
      "execution_count": 4,
      "outputs": [
        {
          "output_type": "stream",
          "name": "stdout",
          "text": [
            "Mounted at /content/drive\n"
          ]
        }
      ]
    },
    {
      "cell_type": "code",
      "execution_count": 5,
      "id": "955caed5",
      "metadata": {
        "colab": {
          "base_uri": "https://localhost:8080/"
        },
        "id": "955caed5",
        "outputId": "56326c67-36ba-43c9-e081-3b7f327af4b3"
      },
      "outputs": [
        {
          "output_type": "stream",
          "name": "stdout",
          "text": [
            "100000\n"
          ]
        }
      ],
      "source": [
        "import h5py\n",
        "PATH = '/content/drive/MyDrive/bandnn_datasets/molecules.h5'\n",
        "features_list = []\n",
        "with h5py.File(PATH, 'r') as h5f:\n",
        "    for mol_key in h5f.keys():\n",
        "        group = h5f[mol_key]\n",
        "        mol_data = {key: group[key][()] for key in group}\n",
        "        for k, v in mol_data.items():\n",
        "            if isinstance(v, bytes):\n",
        "                mol_data[k] = v.decode('utf-8')\n",
        "        features_list.append(mol_data)\n",
        "\n",
        "print(len(features_list))"
      ]
    },
    {
      "cell_type": "code",
      "execution_count": 6,
      "id": "ba9ca7a6",
      "metadata": {
        "id": "ba9ca7a6"
      },
      "outputs": [],
      "source": [
        "y = pd.read_csv('/content/drive/MyDrive/bandnn_datasets/energy_list.csv').values"
      ]
    },
    {
      "cell_type": "code",
      "execution_count": 7,
      "id": "92cab595",
      "metadata": {
        "id": "92cab595"
      },
      "outputs": [],
      "source": [
        "X_train, X_test, y_train, y_test = train_test_split(\n",
        "    features_list, y, test_size=0.2, random_state=42\n",
        ")"
      ]
    },
    {
      "cell_type": "code",
      "source": [
        "class CustomDataset(Dataset):\n",
        "\n",
        "  def __init__(self, features, targets):\n",
        "    self.features = features\n",
        "    self.targets = torch.tensor(targets, dtype=torch.float32)\n",
        "\n",
        "  def __len__(self):\n",
        "    return len(self.targets)\n",
        "\n",
        "  def __getitem__(self, index):\n",
        "    return self.features[index], self.targets[index]"
      ],
      "metadata": {
        "id": "wXx8l8BjilfC"
      },
      "id": "wXx8l8BjilfC",
      "execution_count": 8,
      "outputs": []
    },
    {
      "cell_type": "code",
      "source": [
        "def collate_Fn(batch):\n",
        "    feature_batch, target_batch = zip(*batch)\n",
        "    return list(feature_batch), torch.tensor(target_batch, dtype=torch.float32)\n"
      ],
      "metadata": {
        "id": "EWbDL6aGmZnX"
      },
      "id": "EWbDL6aGmZnX",
      "execution_count": 9,
      "outputs": []
    },
    {
      "cell_type": "code",
      "source": [
        "\n",
        "train_dataset = CustomDataset(X_train, y_train)\n",
        "test_dataset = CustomDataset(X_test, y_test)\n",
        "\n",
        "train_loader = DataLoader(train_dataset, batch_size=32,collate_fn=collate_Fn, shuffle=True, pin_memory=True)\n",
        "test_loader = DataLoader(test_dataset, batch_size=32, collate_fn=collate_Fn, shuffle=False, pin_memory=True)\n",
        "\n"
      ],
      "metadata": {
        "id": "Z7Mwawsci9Ft"
      },
      "id": "Z7Mwawsci9Ft",
      "execution_count": 10,
      "outputs": []
    },
    {
      "cell_type": "code",
      "source": [
        "import matplotlib.pyplot as plt\n",
        "\n",
        "plt.hist(y)"
      ],
      "metadata": {
        "colab": {
          "base_uri": "https://localhost:8080/",
          "height": 534
        },
        "id": "t6X2ex8SLHNB",
        "outputId": "2baf3e1e-15a3-4527-ad5e-58f4f97f7efe"
      },
      "id": "t6X2ex8SLHNB",
      "execution_count": null,
      "outputs": [
        {
          "output_type": "execute_result",
          "data": {
            "text/plain": [
              "(array([  295.,   868.,  2618.,  5755.,  7832., 16837., 20639., 25447.,\n",
              "        14928.,  4781.]),\n",
              " array([-471.57122759, -455.4379652 , -439.3047028 , -423.17144041,\n",
              "        -407.03817801, -390.90491562, -374.77165322, -358.63839082,\n",
              "        -342.50512843, -326.37186603, -310.23860364]),\n",
              " <BarContainer object of 10 artists>)"
            ]
          },
          "metadata": {},
          "execution_count": 9
        },
        {
          "output_type": "display_data",
          "data": {
            "text/plain": [
              "<Figure size 640x480 with 1 Axes>"
            ],
            "image/png": "[encoded data removed]"
          },
          "metadata": {}
        }
      ]
    },
    {
      "cell_type": "code",
      "execution_count": 11,
      "id": "34325958",
      "metadata": {
        "id": "34325958"
      },
      "outputs": [],
      "source": [
        "BONDS_DIM, ANGLES_DIM, NONBONDS_DIM, DIHEDRALS_DIM = 17, 27, 17, 38"
      ]
    },
    {
      "cell_type": "code",
      "source": [
        "torch.manual_seed(42)\n",
        "\n",
        "class BANDNN(nn.Module):\n",
        "\n",
        "    def __init__(self, bonds_input_dim, angles_input_dim, nonbonds_input_dim, dihedral_input_dim):\n",
        "        super().__init__()\n",
        "        self.bonds_model = nn.Sequential(\n",
        "            nn.Linear(bonds_input_dim, 128),\n",
        "            nn.ReLU(),\n",
        "            nn.Linear(128, 256),\n",
        "            nn.ReLU(),\n",
        "            nn.Linear(256, 128),\n",
        "            nn.ReLU(),\n",
        "            nn.Linear(128, 1)\n",
        "        )\n",
        "\n",
        "        self.angles_model = nn.Sequential(\n",
        "            nn.Linear(angles_input_dim, 128),\n",
        "            nn.ReLU(),\n",
        "            nn.Linear(128, 350),\n",
        "            nn.ReLU(),\n",
        "            nn.Linear(350, 128),\n",
        "            nn.ReLU(),\n",
        "            nn.Linear(128, 1)\n",
        "        )\n",
        "\n",
        "        self.nonbonds_model = nn.Sequential(\n",
        "            nn.Linear(nonbonds_input_dim, 128),\n",
        "            nn.ReLU(),\n",
        "            nn.Linear(128, 256),\n",
        "            nn.ReLU(),\n",
        "            nn.Linear(256, 128),\n",
        "            nn.ReLU(),\n",
        "            nn.Linear(128, 1)\n",
        "        )\n",
        "\n",
        "        self.dihedrals_model = nn.Sequential(\n",
        "            nn.Linear(dihedral_input_dim, 128),\n",
        "            nn.ReLU(),\n",
        "            nn.Linear(128, 512),\n",
        "            nn.ReLU(),\n",
        "            nn.Linear(512, 128),\n",
        "            nn.ReLU(),\n",
        "            nn.Linear(128, 1)\n",
        "        )\n",
        "\n",
        "    def forward(self, bonds_input, angles_input, non_bonds_input, dihedrals_input):\n",
        "        bonds_energy = self.bonds_model(bonds_input).sum()\n",
        "        angles_energy = self.angles_model(angles_input).sum()\n",
        "        nonbonds_energy = self.nonbonds_model(non_bonds_input).sum()\n",
        "        dihedrals_energy = self.dihedrals_model(dihedrals_input).sum()\n",
        "\n",
        "        total_energy = bonds_energy + angles_energy + nonbonds_energy + dihedrals_energy\n",
        "        return total_energy\n"
      ],
      "metadata": {
        "id": "pCoVaLBsoliC"
      },
      "id": "pCoVaLBsoliC",
      "execution_count": 12,
      "outputs": []
    },
    {
      "cell_type": "code",
      "source": [
        "!pip install torchinfo"
      ],
      "metadata": {
        "colab": {
          "base_uri": "https://localhost:8080/"
        },
        "id": "gWwpXhXEO47N",
        "outputId": "0d4a28da-468e-4399-d46f-3bbf9c05aec9"
      },
      "id": "gWwpXhXEO47N",
      "execution_count": 13,
      "outputs": [
        {
          "output_type": "stream",
          "name": "stdout",
          "text": [
            "Collecting torchinfo\n",
            "  Downloading torchinfo-1.8.0-py3-none-any.whl.metadata (21 kB)\n",
            "Downloading torchinfo-1.8.0-py3-none-any.whl (23 kB)\n",
            "Installing collected packages: torchinfo\n",
            "Successfully installed torchinfo-1.8.0\n"
          ]
        }
      ]
    },
    {
      "cell_type": "code",
      "execution_count": 14,
      "id": "aa1b7794",
      "metadata": {
        "colab": {
          "base_uri": "https://localhost:8080/"
        },
        "id": "aa1b7794",
        "outputId": "83dbb226-032f-4fdf-c7e6-de1eac25dd44"
      },
      "outputs": [
        {
          "output_type": "execute_result",
          "data": {
            "text/plain": [
              "=================================================================\n",
              "Layer (type:depth-idx)                   Param #\n",
              "=================================================================\n",
              "BANDNN                                   --\n",
              "├─Sequential: 1-1                        --\n",
              "│    └─Linear: 2-1                       2,304\n",
              "│    └─ReLU: 2-2                         --\n",
              "│    └─Linear: 2-3                       33,024\n",
              "│    └─ReLU: 2-4                         --\n",
              "│    └─Linear: 2-5                       32,896\n",
              "│    └─ReLU: 2-6                         --\n",
              "│    └─Linear: 2-7                       129\n",
              "├─Sequential: 1-2                        --\n",
              "│    └─Linear: 2-8                       3,584\n",
              "│    └─ReLU: 2-9                         --\n",
              "│    └─Linear: 2-10                      45,150\n",
              "│    └─ReLU: 2-11                        --\n",
              "│    └─Linear: 2-12                      44,928\n",
              "│    └─ReLU: 2-13                        --\n",
              "│    └─Linear: 2-14                      129\n",
              "├─Sequential: 1-3                        --\n",
              "│    └─Linear: 2-15                      2,304\n",
              "│    └─ReLU: 2-16                        --\n",
              "│    └─Linear: 2-17                      33,024\n",
              "│    └─ReLU: 2-18                        --\n",
              "│    └─Linear: 2-19                      32,896\n",
              "│    └─ReLU: 2-20                        --\n",
              "│    └─Linear: 2-21                      129\n",
              "├─Sequential: 1-4                        --\n",
              "│    └─Linear: 2-22                      4,992\n",
              "│    └─ReLU: 2-23                        --\n",
              "│    └─Linear: 2-24                      66,048\n",
              "│    └─ReLU: 2-25                        --\n",
              "│    └─Linear: 2-26                      65,664\n",
              "│    └─ReLU: 2-27                        --\n",
              "│    └─Linear: 2-28                      129\n",
              "=================================================================\n",
              "Total params: 367,330\n",
              "Trainable params: 367,330\n",
              "Non-trainable params: 0\n",
              "================================================================="
            ]
          },
          "metadata": {},
          "execution_count": 14
        }
      ],
      "source": [
        "from torchinfo import summary\n",
        "model = BANDNN(BONDS_DIM, ANGLES_DIM, NONBONDS_DIM, DIHEDRALS_DIM)\n",
        "model = model.to(device)\n",
        "# model.summary()\n",
        "summary(model)"
      ]
    },
    {
      "cell_type": "code",
      "execution_count": 15,
      "id": "10094ccd",
      "metadata": {
        "id": "10094ccd"
      },
      "outputs": [],
      "source": [
        "epochs = 20\n",
        "learning_rate = 0.1\n",
        "\n",
        "# loss func\n",
        "criterion = nn.MSELoss()\n",
        "\n",
        "# optimizer\n",
        "optimizer = optim.Adam(model.parameters(), lr=learning_rate)"
      ]
    },
    {
      "cell_type": "code",
      "source": [
        "# training loop\n",
        "\n",
        "for epoch in range(epochs):\n",
        "  print(f'Epoch {epoch + 1}')\n",
        "  total_epoch_loss = 0\n",
        "  num_samples = 0\n",
        "\n",
        "  for batch in train_loader:\n",
        "\n",
        "    for feature_dict, target in zip(*batch):\n",
        "\n",
        "      bond_feat = torch.stack([torch.tensor(arr, dtype=torch.float32) for arr in feature_dict['bonds']]).float().to(device)\n",
        "      angle_feat = torch.stack([torch.tensor(arr, dtype=torch.float32) for arr in feature_dict['angles']]).float().to(device)\n",
        "      nonbond_feat = torch.stack([torch.tensor(arr, dtype=torch.float32) for arr in feature_dict['nonbonds']]).float().to(device)\n",
        "      dihedral_feat = torch.stack([torch.tensor(arr, dtype=torch.float32) for arr in feature_dict['dihedrals']]).float().to(device)\n",
        "      energy_feat = torch.tensor([target], dtype=torch.float32).to(device)\n",
        "\n",
        "      optimizer.zero_grad()\n",
        "\n",
        "      outputs = model(bond_feat, angle_feat, nonbond_feat, dihedral_feat)\n",
        "\n",
        "      loss = criterion(outputs, energy_feat)\n",
        "      loss.backward()\n",
        "\n",
        "      optimizer.step()\n",
        "\n",
        "      num_samples+=1\n",
        "      total_epoch_loss += loss.item()\n",
        "\n",
        "\n",
        "  avg_loss = total_epoch_loss / num_samples\n",
        "  print(f'Average epoch Loss: {avg_loss:.4f}')\n",
        "\n",
        "\n",
        "torch.save(model.state_dict(), 'BANDNN-weights-200425.pth')\n"
      ],
      "metadata": {
        "colab": {
          "base_uri": "https://localhost:8080/"
        },
        "id": "WVryVrGIo2Rn",
        "outputId": "0780d015-f5ca-4205-acf6-39cce5df02a5"
      },
      "id": "WVryVrGIo2Rn",
      "execution_count": 16,
      "outputs": [
        {
          "output_type": "stream",
          "name": "stdout",
          "text": [
            "Epoch 1\n"
          ]
        },
        {
          "output_type": "stream",
          "name": "stderr",
          "text": [
            "/usr/local/lib/python3.11/dist-packages/torch/nn/modules/loss.py:610: UserWarning: Using a target size (torch.Size([1])) that is different to the input size (torch.Size([])). This will likely lead to incorrect results due to broadcasting. Please ensure they have the same size.\n",
            "  return F.mse_loss(input, target, reduction=self.reduction)\n"
          ]
        },
        {
          "output_type": "stream",
          "name": "stdout",
          "text": [
            "Average epoch Loss: 77280.4017\n",
            "Epoch 2\n",
            "Average epoch Loss: 1445.9739\n",
            "Epoch 3\n",
            "Average epoch Loss: 1452.2066\n",
            "Epoch 4\n",
            "Average epoch Loss: 1450.9730\n",
            "Epoch 5\n",
            "Average epoch Loss: 1444.8108\n",
            "Epoch 6\n",
            "Average epoch Loss: 1455.7652\n",
            "Epoch 7\n",
            "Average epoch Loss: 1443.8391\n",
            "Epoch 8\n",
            "Average epoch Loss: 1446.3549\n",
            "Epoch 9\n",
            "Average epoch Loss: 1453.3177\n",
            "Epoch 10\n",
            "Average epoch Loss: 1451.4121\n",
            "Epoch 11\n",
            "Average epoch Loss: 1433.5812\n",
            "Epoch 12\n",
            "Average epoch Loss: 1451.5445\n",
            "Epoch 13\n",
            "Average epoch Loss: 1461.7026\n",
            "Epoch 14\n",
            "Average epoch Loss: 1448.4781\n",
            "Epoch 15\n",
            "Average epoch Loss: 1446.7351\n",
            "Epoch 16\n",
            "Average epoch Loss: 1445.0086\n",
            "Epoch 17\n",
            "Average epoch Loss: 1439.6001\n",
            "Epoch 18\n",
            "Average epoch Loss: 1450.4717\n",
            "Epoch 19\n",
            "Average epoch Loss: 1452.4489\n",
            "Epoch 20\n",
            "Average epoch Loss: 1443.5723\n"
          ]
        }
      ]
    },
    {
      "cell_type": "code",
      "execution_count": null,
      "id": "f3dc16d6",
      "metadata": {
        "colab": {
          "base_uri": "https://localhost:8080/"
        },
        "id": "f3dc16d6",
        "outputId": "271d0e8a-8d1d-4540-80b5-e8c5b866a451"
      },
      "outputs": [
        {
          "output_type": "execute_result",
          "data": {
            "text/plain": [
              "BANDNN(\n",
              "  (bonds_model): Sequential(\n",
              "    (0): Linear(in_features=17, out_features=128, bias=True)\n",
              "    (1): ReLU()\n",
              "    (2): Linear(in_features=128, out_features=256, bias=True)\n",
              "    (3): ReLU()\n",
              "    (4): Linear(in_features=256, out_features=128, bias=True)\n",
              "    (5): ReLU()\n",
              "    (6): Linear(in_features=128, out_features=1, bias=True)\n",
              "  )\n",
              "  (angles_model): Sequential(\n",
              "    (0): Linear(in_features=27, out_features=128, bias=True)\n",
              "    (1): ReLU()\n",
              "    (2): Linear(in_features=128, out_features=350, bias=True)\n",
              "    (3): ReLU()\n",
              "    (4): Linear(in_features=350, out_features=128, bias=True)\n",
              "    (5): ReLU()\n",
              "    (6): Linear(in_features=128, out_features=1, bias=True)\n",
              "  )\n",
              "  (nonbonds_model): Sequential(\n",
              "    (0): Linear(in_features=17, out_features=128, bias=True)\n",
              "    (1): ReLU()\n",
              "    (2): Linear(in_features=128, out_features=256, bias=True)\n",
              "    (3): ReLU()\n",
              "    (4): Linear(in_features=256, out_features=128, bias=True)\n",
              "    (5): ReLU()\n",
              "    (6): Linear(in_features=128, out_features=1, bias=True)\n",
              "  )\n",
              "  (dihedrals_model): Sequential(\n",
              "    (0): Linear(in_features=38, out_features=128, bias=True)\n",
              "    (1): ReLU()\n",
              "    (2): Linear(in_features=128, out_features=512, bias=True)\n",
              "    (3): ReLU()\n",
              "    (4): Linear(in_features=512, out_features=128, bias=True)\n",
              "    (5): ReLU()\n",
              "    (6): Linear(in_features=128, out_features=1, bias=True)\n",
              "  )\n",
              ")"
            ]
          },
          "metadata": {},
          "execution_count": 23
        }
      ],
      "source": [
        "model.eval()"
      ]
    },
    {
      "cell_type": "code",
      "execution_count": null,
      "id": "81151494",
      "metadata": {
        "id": "81151494"
      },
      "outputs": [],
      "source": [
        "from sklearn.metrics import r2_score\n",
        "\n",
        "def evaluate_model(model, test_loader, device='cuda'):\n",
        "    model.eval()  # Set model to eval mode\n",
        "    total_loss = 0\n",
        "    total_samples = 0\n",
        "\n",
        "    predictions = []\n",
        "    targets_list = []\n",
        "\n",
        "    criterion = torch.nn.MSELoss()\n",
        "\n",
        "    with torch.no_grad():  # No gradients needed\n",
        "        for batch in test_loader:\n",
        "            features_list, targets = batch\n",
        "\n",
        "            for feature, target in zip(features_list, targets):\n",
        "                # Convert and move feature components to device\n",
        "                bonds = torch.stack([torch.tensor(b, dtype=torch.float32) for b in feature['bonds']]).to(device)\n",
        "                angles = torch.stack([torch.tensor(a, dtype=torch.float32) for a in feature['angles']]).to(device)\n",
        "                nonbonds = torch.stack([torch.tensor(n, dtype=torch.float32) for n in feature['nonbonds']]).to(device)\n",
        "                dihedrals = torch.stack([torch.tensor(d, dtype=torch.float32) for d in feature['dihedrals']]).to(device)\n",
        "\n",
        "                target = torch.tensor(target, dtype=torch.float32).to(device)\n",
        "\n",
        "                # Get model output\n",
        "                output = model(bonds, angles, nonbonds, dihedrals)\n",
        "\n",
        "                # Compute loss\n",
        "                loss = criterion(output, target)\n",
        "                total_loss += loss.item()\n",
        "                total_samples += 1\n",
        "\n",
        "                predictions.append(output.item())\n",
        "                targets_list.append(target.item())\n",
        "\n",
        "    avg_loss = total_loss / total_samples\n",
        "\n",
        "    print(f\"Evaluation MSE Loss: {avg_loss:.4f}\")\n",
        "    print(f\"Evaluation R2 Score: {r2_score(targets_list, predictions):.4f}\")\n",
        "    return predictions, targets_list, avg_loss\n"
      ]
    },
    {
      "cell_type": "code",
      "source": [
        "model.to(device)\n",
        "preds, true_vals, test_loss = evaluate_model(model, test_loader, device)\n"
      ],
      "metadata": {
        "colab": {
          "base_uri": "https://localhost:8080/"
        },
        "id": "eQaunYBNaJ5n",
        "outputId": "5073a12c-cb15-48f7-c4ce-ebe8ad464fa2"
      },
      "id": "eQaunYBNaJ5n",
      "execution_count": null,
      "outputs": [
        {
          "output_type": "stream",
          "name": "stderr",
          "text": [
            "<ipython-input-24-a9a11986f4be>:25: UserWarning: To copy construct from a tensor, it is recommended to use sourceTensor.clone().detach() or sourceTensor.clone().detach().requires_grad_(True), rather than torch.tensor(sourceTensor).\n",
            "  target = torch.tensor(target, dtype=torch.float32).to(device)\n"
          ]
        },
        {
          "output_type": "stream",
          "name": "stdout",
          "text": [
            "Evaluation MSE Loss: 1257.5597\n"
          ]
        }
      ]
    },
    {
      "cell_type": "code",
      "source": [
        "import matplotlib.pyplot as plt\n",
        "\n",
        "plt.scatter(true_vals, preds)\n",
        "plt.xlabel(\"True Energy\")\n",
        "plt.ylabel(\"Predicted Energy\")\n",
        "plt.title(\"BANDNN Predictions vs True\")\n",
        "plt.grid(True)\n",
        "plt.show()\n"
      ],
      "metadata": {
        "colab": {
          "base_uri": "https://localhost:8080/",
          "height": 472
        },
        "id": "k5KI8OvFaOsq",
        "outputId": "4d924197-30dd-4074-95a2-c86261198dbd"
      },
      "id": "k5KI8OvFaOsq",
      "execution_count": null,
      "outputs": [
        {
          "output_type": "display_data",
          "data": {
            "text/plain": [
              "<Figure size 640x480 with 1 Axes>"
            ],
            "image/png": "[encoded data removed]"
          },
          "metadata": {}
        }
      ]
    }
  ],
  "metadata": {
    "kernelspec": {
      "display_name": "Python 3",
      "name": "python3"
    },
    "language_info": {
      "codemirror_mode": {
        "name": "ipython",
        "version": 3
      },
      "file_extension": ".py",
      "mimetype": "text/x-python",
      "name": "python",
      "nbconvert_exporter": "python",
      "pygments_lexer": "ipython3",
      "version": "3.12.3"
    },
    "colab": {
      "provenance": [],
      "gpuType": "T4",
      "include_colab_link": true
    },
    "accelerator": "GPU"
  },
  "nbformat": 4,
  "nbformat_minor": 5
}